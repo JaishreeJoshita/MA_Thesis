{
 "cells": [
  {
   "cell_type": "code",
   "execution_count": 1,
   "metadata": {},
   "outputs": [],
   "source": [
    "# Set up Quandal for data retrieving \n",
    "import quandl"
   ]
  },
  {
   "cell_type": "code",
   "execution_count": 3,
   "metadata": {},
   "outputs": [],
   "source": [
    "# Configuring Qnadal\n",
    "QUANDL_API_KEY = \"GyWSjyZ_ymaRjqqMze2L\"\n",
    "quandl.ApiConfig.api_key = QUANDL_API_KEY"
   ]
  },
  {
   "cell_type": "code",
   "execution_count": 4,
   "metadata": {},
   "outputs": [],
   "source": [
    "# Import libraries\n",
    "import pandas as pd\n",
    "import numpy as np\n",
    "import matplotlib.pyplot as plt"
   ]
  },
  {
   "cell_type": "code",
   "execution_count": 4,
   "metadata": {},
   "outputs": [
    {
     "data": {
      "text/html": [
       "<div>\n",
       "<style scoped>\n",
       "    .dataframe tbody tr th:only-of-type {\n",
       "        vertical-align: middle;\n",
       "    }\n",
       "\n",
       "    .dataframe tbody tr th {\n",
       "        vertical-align: top;\n",
       "    }\n",
       "\n",
       "    .dataframe thead th {\n",
       "        text-align: right;\n",
       "    }\n",
       "</style>\n",
       "<table border=\"1\" class=\"dataframe\">\n",
       "  <thead>\n",
       "    <tr style=\"text-align: right;\">\n",
       "      <th></th>\n",
       "      <th>DATE</th>\n",
       "      <th>DEXINUS</th>\n",
       "    </tr>\n",
       "  </thead>\n",
       "  <tbody>\n",
       "    <tr>\n",
       "      <th>0</th>\n",
       "      <td>1973-01-02</td>\n",
       "      <td>8.02</td>\n",
       "    </tr>\n",
       "    <tr>\n",
       "      <th>1</th>\n",
       "      <td>1973-01-03</td>\n",
       "      <td>8.02</td>\n",
       "    </tr>\n",
       "    <tr>\n",
       "      <th>2</th>\n",
       "      <td>1973-01-04</td>\n",
       "      <td>8.00</td>\n",
       "    </tr>\n",
       "    <tr>\n",
       "      <th>3</th>\n",
       "      <td>1973-01-05</td>\n",
       "      <td>8.01</td>\n",
       "    </tr>\n",
       "    <tr>\n",
       "      <th>4</th>\n",
       "      <td>1973-01-08</td>\n",
       "      <td>8.00</td>\n",
       "    </tr>\n",
       "  </tbody>\n",
       "</table>\n",
       "</div>"
      ],
      "text/plain": [
       "         DATE DEXINUS\n",
       "0  1973-01-02    8.02\n",
       "1  1973-01-03    8.02\n",
       "2  1973-01-04    8.00\n",
       "3  1973-01-05    8.01\n",
       "4  1973-01-08    8.00"
      ]
     },
     "execution_count": 4,
     "metadata": {},
     "output_type": "execute_result"
    }
   ],
   "source": [
    "# Read INR-USD exchange rate daily data\n",
    "df_EX_INRUSD = pd.read_csv('INRUSD_Hist_Data_Daily.csv')\n",
    "df_EX_INRUSD.head()"
   ]
  },
  {
   "cell_type": "code",
   "execution_count": 5,
   "metadata": {},
   "outputs": [
    {
     "data": {
      "text/html": [
       "<div>\n",
       "<style scoped>\n",
       "    .dataframe tbody tr th:only-of-type {\n",
       "        vertical-align: middle;\n",
       "    }\n",
       "\n",
       "    .dataframe tbody tr th {\n",
       "        vertical-align: top;\n",
       "    }\n",
       "\n",
       "    .dataframe thead th {\n",
       "        text-align: right;\n",
       "    }\n",
       "</style>\n",
       "<table border=\"1\" class=\"dataframe\">\n",
       "  <thead>\n",
       "    <tr style=\"text-align: right;\">\n",
       "      <th></th>\n",
       "      <th>DATE</th>\n",
       "      <th>DEXINUS</th>\n",
       "    </tr>\n",
       "  </thead>\n",
       "  <tbody>\n",
       "    <tr>\n",
       "      <th>12574</th>\n",
       "      <td>2021-03-15</td>\n",
       "      <td>72.58</td>\n",
       "    </tr>\n",
       "    <tr>\n",
       "      <th>12575</th>\n",
       "      <td>2021-03-16</td>\n",
       "      <td>72.52</td>\n",
       "    </tr>\n",
       "    <tr>\n",
       "      <th>12576</th>\n",
       "      <td>2021-03-17</td>\n",
       "      <td>72.56</td>\n",
       "    </tr>\n",
       "    <tr>\n",
       "      <th>12577</th>\n",
       "      <td>2021-03-18</td>\n",
       "      <td>72.63</td>\n",
       "    </tr>\n",
       "    <tr>\n",
       "      <th>12578</th>\n",
       "      <td>2021-03-19</td>\n",
       "      <td>72.45</td>\n",
       "    </tr>\n",
       "  </tbody>\n",
       "</table>\n",
       "</div>"
      ],
      "text/plain": [
       "             DATE DEXINUS\n",
       "12574  2021-03-15   72.58\n",
       "12575  2021-03-16   72.52\n",
       "12576  2021-03-17   72.56\n",
       "12577  2021-03-18   72.63\n",
       "12578  2021-03-19   72.45"
      ]
     },
     "execution_count": 5,
     "metadata": {},
     "output_type": "execute_result"
    }
   ],
   "source": [
    "df_EX_INRUSD.tail()"
   ]
  },
  {
   "cell_type": "code",
   "execution_count": 8,
   "metadata": {},
   "outputs": [
    {
     "data": {
      "text/plain": [
       "0    8.02\n",
       "1    8.02\n",
       "2    8.00\n",
       "3    8.01\n",
       "4    8.00\n",
       "Name: DEXINUS, dtype: object"
      ]
     },
     "execution_count": 8,
     "metadata": {},
     "output_type": "execute_result"
    }
   ],
   "source": [
    "df_EX_INRUSD['DEXINUS'].head()"
   ]
  },
  {
   "cell_type": "code",
   "execution_count": 10,
   "metadata": {},
   "outputs": [],
   "source": [
    "# Getting BSE DOLLEX 200, BSE DOLLEX 100 and BSE DOLLEX 30 data\n",
    "df_dollex200 = quandl.get(\"BSE/DOLLEX\")\n",
    "df_dollex100 = quandl.get(\"BSE/DOL100\")\n",
    "df_dollex30 = quandl.get(\"BSE/DOLL30\")"
   ]
  },
  {
   "cell_type": "code",
   "execution_count": 11,
   "metadata": {},
   "outputs": [],
   "source": [
    "# Saving the data into csv\n",
    "df_dollex200.to_csv(r'/Users/rohitkumawat/Desktop/Jaishree_Thesis_MA/DOLLEX200_Hist_Data_Daily.csv')\n",
    "df_dollex100.to_csv(r'/Users/rohitkumawat/Desktop/Jaishree_Thesis_MA/DOLLEX100_Hist_Data_Daily.csv')\n",
    "df_dollex30.to_csv(r'/Users/rohitkumawat/Desktop/Jaishree_Thesis_MA/DOLLEX30_Hist_Data_Daily.csv')"
   ]
  },
  {
   "cell_type": "code",
   "execution_count": 5,
   "metadata": {},
   "outputs": [],
   "source": [
    "# Getting BSE 200 and BSE 100 data\n",
    "df_sensex200 = quandl.get(\"BSE/BSE200\")\n",
    "df_sensex100 = quandl.get(\"BSE/BSE100\")"
   ]
  },
  {
   "cell_type": "code",
   "execution_count": 6,
   "metadata": {},
   "outputs": [
    {
     "data": {
      "text/html": [
       "<div>\n",
       "<style scoped>\n",
       "    .dataframe tbody tr th:only-of-type {\n",
       "        vertical-align: middle;\n",
       "    }\n",
       "\n",
       "    .dataframe tbody tr th {\n",
       "        vertical-align: top;\n",
       "    }\n",
       "\n",
       "    .dataframe thead th {\n",
       "        text-align: right;\n",
       "    }\n",
       "</style>\n",
       "<table border=\"1\" class=\"dataframe\">\n",
       "  <thead>\n",
       "    <tr style=\"text-align: right;\">\n",
       "      <th></th>\n",
       "      <th>Open</th>\n",
       "      <th>High</th>\n",
       "      <th>Low</th>\n",
       "      <th>Close</th>\n",
       "    </tr>\n",
       "    <tr>\n",
       "      <th>Date</th>\n",
       "      <th></th>\n",
       "      <th></th>\n",
       "      <th></th>\n",
       "      <th></th>\n",
       "    </tr>\n",
       "  </thead>\n",
       "  <tbody>\n",
       "    <tr>\n",
       "      <th>2021-04-29</th>\n",
       "      <td>6423.70</td>\n",
       "      <td>6453.90</td>\n",
       "      <td>6358.71</td>\n",
       "      <td>6388.70</td>\n",
       "    </tr>\n",
       "    <tr>\n",
       "      <th>2021-04-30</th>\n",
       "      <td>6348.15</td>\n",
       "      <td>6383.55</td>\n",
       "      <td>6287.58</td>\n",
       "      <td>6298.84</td>\n",
       "    </tr>\n",
       "    <tr>\n",
       "      <th>2021-05-03</th>\n",
       "      <td>6251.56</td>\n",
       "      <td>6320.40</td>\n",
       "      <td>6213.85</td>\n",
       "      <td>6306.64</td>\n",
       "    </tr>\n",
       "    <tr>\n",
       "      <th>2021-05-04</th>\n",
       "      <td>6336.22</td>\n",
       "      <td>6350.57</td>\n",
       "      <td>6243.77</td>\n",
       "      <td>6258.00</td>\n",
       "    </tr>\n",
       "    <tr>\n",
       "      <th>2021-05-05</th>\n",
       "      <td>6302.78</td>\n",
       "      <td>6324.40</td>\n",
       "      <td>6266.93</td>\n",
       "      <td>6317.15</td>\n",
       "    </tr>\n",
       "  </tbody>\n",
       "</table>\n",
       "</div>"
      ],
      "text/plain": [
       "               Open     High      Low    Close\n",
       "Date                                          \n",
       "2021-04-29  6423.70  6453.90  6358.71  6388.70\n",
       "2021-04-30  6348.15  6383.55  6287.58  6298.84\n",
       "2021-05-03  6251.56  6320.40  6213.85  6306.64\n",
       "2021-05-04  6336.22  6350.57  6243.77  6258.00\n",
       "2021-05-05  6302.78  6324.40  6266.93  6317.15"
      ]
     },
     "execution_count": 6,
     "metadata": {},
     "output_type": "execute_result"
    }
   ],
   "source": [
    "df_sensex200.tail()"
   ]
  },
  {
   "cell_type": "code",
   "execution_count": 13,
   "metadata": {},
   "outputs": [],
   "source": [
    "# Saving the data into csv\n",
    "df_sensex200.to_csv(r'/Users/rohitkumawat/Desktop/Jaishree_Thesis_MA/SENSEX200_Hist_Data_Daily.csv')\n",
    "df_sensex100.to_csv(r'/Users/rohitkumawat/Desktop/Jaishree_Thesis_MA/SENSEX100_Hist_Data_Daily.csv')"
   ]
  },
  {
   "cell_type": "code",
   "execution_count": 14,
   "metadata": {},
   "outputs": [],
   "source": [
    "# Getting BSE 500 data \n",
    "df_sensex500 = quandl.get(\"BSE/BSE500\")\n",
    "df_sensex500.to_csv(r'/Users/rohitkumawat/Desktop/Jaishree_Thesis_MA/SENSEX500_Hist_Data_Daily.csv')"
   ]
  },
  {
   "cell_type": "code",
   "execution_count": 15,
   "metadata": {},
   "outputs": [],
   "source": [
    "# AUTO - BSE/SI1900, Banking - BSE/SIBANK, Consumer Durables - BSE/SI0400, Capital Goods - BSE/SI0200, \n",
    "# Healthcare - BSE/SI0800, Energy - BSE/SPBSENIP, Industrials - BSE/SPBSIDIP, Metal - BSE/SI1200,\n",
    "# Power - BSE/SIPOWE, PSU - BSE/SIBPSU, Realty - BSE/SIREAL, Telecom - BSE/SPBSTLIP, INFOTECK - BSE/SIBTEC,\n",
    "# Utilities - BSE/SPBSUTIP\n",
    "# Small Cap - BSE/BSESML, Mid Cap - BSE/BSEMID, Large Cap - BSE/SPBSLIP"
   ]
  },
  {
   "cell_type": "code",
   "execution_count": 16,
   "metadata": {},
   "outputs": [],
   "source": [
    "df_smallcap = quandl.get(\"BSE/BSESML\")\n",
    "df_midcap = quandl.get(\"BSE/BSEMID\")\n",
    "df_largecap = quandl.get(\"BSE/SPBSLIP\")"
   ]
  },
  {
   "cell_type": "code",
   "execution_count": 17,
   "metadata": {},
   "outputs": [],
   "source": [
    "df_smallcap.to_csv(r'/Users/rohitkumawat/Desktop/Jaishree_Thesis_MA/BSE_SmallCap_Hist_Data_Daily.csv')\n",
    "df_midcap.to_csv(r'/Users/rohitkumawat/Desktop/Jaishree_Thesis_MA/BSE_MidCap_Hist_Data_Daily.csv')\n",
    "df_largecap.to_csv(r'/Users/rohitkumawat/Desktop/Jaishree_Thesis_MA/BSE_LargeCap_Hist_Data_Daily.csv')"
   ]
  },
  {
   "cell_type": "code",
   "execution_count": 18,
   "metadata": {},
   "outputs": [],
   "source": [
    "df_bseAuto = quandl.get(\"BSE/SI1900\")\n",
    "df_bseBank = quandl.get(\"BSE/SIBANK\")\n",
    "df_bseConsDur = quandl.get(\"BSE/SI0400\")\n",
    "df_bseCapGoods = quandl.get(\"BSE/SI0200\")\n",
    "df_bseHealth = quandl.get(\"BSE/SI0800\")\n",
    "df_bseEnergy = quandl.get(\"BSE/SPBSENIP\")\n",
    "df_bseIndutrials = quandl.get(\"BSE/SPBSIDIP\")\n",
    "df_bseMetal = quandl.get(\"BSE/SI1200\")\n",
    "df_bsePower = quandl.get(\"BSE/SIPOWE\")\n",
    "df_bsePSU = quandl.get(\"BSE/SIBPSU\")\n",
    "df_bseRealty = quandl.get(\"BSE/SIREAL\")\n",
    "df_bseTelecom = quandl.get(\"BSE/SPBSTLIP\")\n",
    "df_bseInfoteck = quandl.get(\"BSE/SIBTEC\")\n",
    "df_bseUtilities = quandl.get(\"BSE/SPBSUTIP\")"
   ]
  },
  {
   "cell_type": "code",
   "execution_count": 19,
   "metadata": {},
   "outputs": [],
   "source": [
    "df_bseAuto.to_csv(r'/Users/rohitkumawat/Desktop/Jaishree_Thesis_MA/BSE_AUTO_Hist_Data_Daily.csv')\n",
    "df_bseBank.to_csv(r'/Users/rohitkumawat/Desktop/Jaishree_Thesis_MA/BSE_Banking_Hist_Data_Daily.csv')\n",
    "df_bseConsDur.to_csv(r'/Users/rohitkumawat/Desktop/Jaishree_Thesis_MA/BSE_ConsDurables_Hist_Data_Daily.csv')\n",
    "df_bseCapGoods.to_csv(r'/Users/rohitkumawat/Desktop/Jaishree_Thesis_MA/BSE_CapGoods_Hist_Data_Daily.csv')\n",
    "df_bseHealth.to_csv(r'/Users/rohitkumawat/Desktop/Jaishree_Thesis_MA/BSE_Healthcare_Hist_Data_Daily.csv')\n",
    "df_bseEnergy.to_csv(r'/Users/rohitkumawat/Desktop/Jaishree_Thesis_MA/BSE_Energy_Hist_Data_Daily.csv')\n",
    "df_bseIndutrials.to_csv(r'/Users/rohitkumawat/Desktop/Jaishree_Thesis_MA/BSE_Industrials_Hist_Data_Daily.csv')\n",
    "df_bseMetal.to_csv(r'/Users/rohitkumawat/Desktop/Jaishree_Thesis_MA/BSE_Metal_Hist_Data_Daily.csv')\n",
    "df_bsePower.to_csv(r'/Users/rohitkumawat/Desktop/Jaishree_Thesis_MA/BSE_Power_Hist_Data_Daily.csv')\n",
    "df_bsePSU.to_csv(r'/Users/rohitkumawat/Desktop/Jaishree_Thesis_MA/BSE_PSU_Hist_Data_Daily.csv')\n",
    "df_bseRealty.to_csv(r'/Users/rohitkumawat/Desktop/Jaishree_Thesis_MA/BSE_Realty_Hist_Data_Daily.csv')\n",
    "df_bseTelecom.to_csv(r'/Users/rohitkumawat/Desktop/Jaishree_Thesis_MA/BSE_Telecom_Hist_Data_Daily.csv')\n",
    "df_bseInfoteck.to_csv(r'/Users/rohitkumawat/Desktop/Jaishree_Thesis_MA/BSE_Infoteck_Hist_Data_Daily.csv')\n",
    "df_bseUtilities.to_csv(r'/Users/rohitkumawat/Desktop/Jaishree_Thesis_MA/BSE_Utilities_Hist_Data_Daily.csv')"
   ]
  }
 ],
 "metadata": {
  "kernelspec": {
   "display_name": "Python 3",
   "language": "python",
   "name": "python3"
  },
  "language_info": {
   "codemirror_mode": {
    "name": "ipython",
    "version": 3
   },
   "file_extension": ".py",
   "mimetype": "text/x-python",
   "name": "python",
   "nbconvert_exporter": "python",
   "pygments_lexer": "ipython3",
   "version": "3.7.3"
  }
 },
 "nbformat": 4,
 "nbformat_minor": 2
}
